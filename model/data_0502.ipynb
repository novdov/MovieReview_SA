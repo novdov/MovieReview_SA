{
 "cells": [
  {
   "cell_type": "code",
   "execution_count": 1,
   "metadata": {
    "collapsed": true
   },
   "outputs": [],
   "source": [
    "from utils import *"
   ]
  },
  {
   "cell_type": "code",
   "execution_count": 2,
   "metadata": {
    "collapsed": true
   },
   "outputs": [],
   "source": [
    "train_joy = read_data('../train_data_labeled_joy.txt')\n",
    "train_anger = read_data('../train_data_labeled_anger.txt')\n",
    "train_disgust = read_data('../train_data_labeled_disgust.txt')\n",
    "train_sadness = read_data('../train_data_labeled_sadness.txt')\n",
    "train_fear = read_data('../train_data_labeled_fear.txt')"
   ]
  },
  {
   "cell_type": "code",
   "execution_count": 3,
   "metadata": {},
   "outputs": [
    {
     "data": {
      "text/plain": [
       "(74532, 40223, 20319, 20699, 10615)"
      ]
     },
     "execution_count": 3,
     "metadata": {},
     "output_type": "execute_result"
    }
   ],
   "source": [
    "len(train_joy), len(train_anger), len(train_disgust), len(train_sadness), len(train_fear)"
   ]
  },
  {
   "cell_type": "code",
   "execution_count": 4,
   "metadata": {
    "collapsed": true
   },
   "outputs": [],
   "source": [
    "import random\n",
    "def pop_test(data, length):\n",
    "    result = [data.pop(random.randrange(len(data))) for _ in range(length)]\n",
    "    return result"
   ]
  },
  {
   "cell_type": "code",
   "execution_count": 5,
   "metadata": {
    "collapsed": true
   },
   "outputs": [],
   "source": [
    "test_joy = pop_test(train_joy, len(train_joy)//10)\n",
    "test_anger = pop_test(train_anger, len(train_anger)//10)\n",
    "test_disgust = pop_test(train_disgust, len(train_disgust)//10)\n",
    "test_sadness = pop_test(train_sadness, len(train_sadness)//10)\n",
    "test_fear = pop_test(train_fear, len(train_fear)//10)"
   ]
  },
  {
   "cell_type": "code",
   "execution_count": 6,
   "metadata": {
    "collapsed": true
   },
   "outputs": [],
   "source": [
    "train_joy_labeled = [(row, 0) for row in train_joy]\n",
    "train_anger_labeled = [(row, 1) for row in train_anger]\n",
    "train_disgust_labeled = [(row, 2) for row in train_disgust]\n",
    "train_sadness_labeled = [(row, 3) for row in train_sadness]\n",
    "train_fear_labeled = [(row, 4) for row in train_fear]"
   ]
  },
  {
   "cell_type": "code",
   "execution_count": 9,
   "metadata": {},
   "outputs": [],
   "source": [
    "train_lst = [train_joy_labeled, train_anger_labeled, \n",
    "             train_disgust_labeled, train_sadness_labeled, train_fear_labeled]\n",
    "test_lst = [test_joy, test_anger, test_disgust, test_sadness, test_fear]"
   ]
  },
  {
   "cell_type": "code",
   "execution_count": 10,
   "metadata": {},
   "outputs": [
    {
     "name": "stdout",
     "output_type": "stream",
     "text": [
      "149752 16636\n"
     ]
    }
   ],
   "source": [
    "train, test = [], []\n",
    "for data in train_lst:\n",
    "    train += data\n",
    "\n",
    "for data in test_lst:\n",
    "    test += data\n",
    "    \n",
    "print(len(train), len(test))"
   ]
  },
  {
   "cell_type": "code",
   "execution_count": 13,
   "metadata": {
    "collapsed": true
   },
   "outputs": [],
   "source": [
    "save_pickle('../train_labeled_0502.pickle', train)\n",
    "save_pickle('../test_0502.pickle', test)"
   ]
  },
  {
   "cell_type": "code",
   "execution_count": null,
   "metadata": {
    "collapsed": true
   },
   "outputs": [],
   "source": []
  }
 ],
 "metadata": {
  "kernelspec": {
   "display_name": "Python 3",
   "language": "python",
   "name": "python3"
  },
  "language_info": {
   "codemirror_mode": {
    "name": "ipython",
    "version": 3
   },
   "file_extension": ".py",
   "mimetype": "text/x-python",
   "name": "python",
   "nbconvert_exporter": "python",
   "pygments_lexer": "ipython3",
   "version": "3.6.3"
  }
 },
 "nbformat": 4,
 "nbformat_minor": 2
}
