{
 "cells": [
  {
   "cell_type": "code",
   "execution_count": 1,
   "metadata": {
    "collapsed": true
   },
   "outputs": [],
   "source": [
    "from utils import *"
   ]
  },
  {
   "cell_type": "code",
   "execution_count": 2,
   "metadata": {
    "collapsed": true
   },
   "outputs": [],
   "source": [
    "train_joy = read_data('../train_data_labeled_joy.txt')\n",
    "train_anger = read_data('../train_data_labeled_anger.txt')\n",
    "train_disgust = read_data('../train_data_labeled_disgust.txt')\n",
    "train_sadness = read_data('../train_data_labeled_sadness.txt')\n",
    "train_fear = read_data('../train_data_labeled_fear.txt')"
   ]
  },
  {
   "cell_type": "code",
   "execution_count": 3,
   "metadata": {},
   "outputs": [
    {
     "data": {
      "text/plain": [
       "(74532, 40223, 20319, 20699, 10615)"
      ]
     },
     "execution_count": 3,
     "metadata": {},
     "output_type": "execute_result"
    }
   ],
   "source": [
    "len(train_joy), len(train_anger), len(train_disgust), len(train_sadness), len(train_fear)"
   ]
  },
  {
   "cell_type": "code",
   "execution_count": 4,
   "metadata": {
    "collapsed": true
   },
   "outputs": [],
   "source": [
    "import random\n",
    "def pop_test(data, length):\n",
    "    result = [data.pop(random.randrange(len(data))) for _ in range(length)]\n",
    "    return result"
   ]
  },
  {
   "cell_type": "code",
   "execution_count": 5,
   "metadata": {
    "collapsed": true
   },
   "outputs": [],
   "source": [
    "test_joy = pop_test(train_joy, len(train_joy)//10)\n",
    "test_anger = pop_test(train_anger, len(train_anger)//10)\n",
    "test_disgust = pop_test(train_disgust, len(train_disgust)//10)\n",
    "test_sadness = pop_test(train_sadness, len(train_sadness)//10)\n",
    "test_fear = pop_test(train_fear, len(train_fear)//10)"
   ]
  },
  {
   "cell_type": "code",
   "execution_count": 6,
   "metadata": {
    "collapsed": true
   },
   "outputs": [],
   "source": [
    "train_joy_labeled = [(row, 0) for row in train_joy]\n",
    "train_anger_labeled = [(row, 1) for row in train_anger]\n",
    "train_disgust_labeled = [(row, 2) for row in train_disgust]\n",
    "train_sadness_labeled = [(row, 3) for row in train_sadness]\n",
    "train_fear_labeled = [(row, 4) for row in train_fear]"
   ]
  },
  {
   "cell_type": "code",
   "execution_count": 9,
   "metadata": {
    "collapsed": true
   },
   "outputs": [],
   "source": [
    "train_lst = [train_joy_labeled, train_anger_labeled, \n",
    "             train_disgust_labeled, train_sadness_labeled, train_fear_labeled]\n",
    "test_lst = [test_joy, test_anger, test_disgust, test_sadness, test_fear]"
   ]
  },
  {
   "cell_type": "code",
   "execution_count": 10,
   "metadata": {},
   "outputs": [
    {
     "name": "stdout",
     "output_type": "stream",
     "text": [
      "149752 16636\n"
     ]
    }
   ],
   "source": [
    "train, test = [], []\n",
    "for data in train_lst:\n",
    "    train += data\n",
    "\n",
    "for data in test_lst:\n",
    "    test += data\n",
    "    \n",
    "print(len(train), len(test))"
   ]
  },
  {
   "cell_type": "code",
   "execution_count": 13,
   "metadata": {
    "collapsed": true
   },
   "outputs": [],
   "source": [
    "save_pickle('../train_labeled_0502.pickle', train)\n",
    "save_pickle('../test_0502.pickle', test)"
   ]
  },
  {
   "cell_type": "code",
   "execution_count": 2,
   "metadata": {
    "collapsed": true
   },
   "outputs": [],
   "source": [
    "tmp = load_pickle('../test_0502.pickle')"
   ]
  },
  {
   "cell_type": "code",
   "execution_count": null,
   "metadata": {
    "collapsed": true
   },
   "outputs": [],
   "source": []
  },
  {
   "cell_type": "code",
   "execution_count": null,
   "metadata": {
    "collapsed": true
   },
   "outputs": [],
   "source": []
  },
  {
   "cell_type": "code",
   "execution_count": null,
   "metadata": {
    "collapsed": true
   },
   "outputs": [],
   "source": []
  },
  {
   "cell_type": "code",
   "execution_count": 4,
   "metadata": {
    "collapsed": true
   },
   "outputs": [],
   "source": [
    "from random import shuffle\n",
    "from file_io import *\n",
    "from words_preprocessing import *\n",
    "\n",
    "train_joy = read_data('../train_data_labeled_joy.txt')\n",
    "train_anger = read_data('../train_data_labeled_anger.txt')\n",
    "train_disgust = read_data('../train_data_labeled_disgust.txt')\n",
    "train_sadness = read_data('../train_data_labeled_sadness.txt')\n",
    "train_fear = read_data('../train_data_labeled_fear.txt')\n",
    "\n",
    "train_joy_labeled = [(row, 0) for row in train_joy]\n",
    "train_anger_labeled = [(row, 1) for row in train_anger]\n",
    "train_disgust_labeled = [(row, 2) for row in train_disgust]\n",
    "train_sadness_labeled = [(row, 3) for row in train_sadness]\n",
    "train_fear_labeled = [(row, 4) for row in train_fear]\n",
    "\n",
    "train_lst = [train_joy_labeled, train_anger_labeled, \n",
    "             train_disgust_labeled, train_sadness_labeled, train_fear_labeled]\n",
    "\n",
    "train = []\n",
    "for data in train_lst:\n",
    "    train += data"
   ]
  },
  {
   "cell_type": "code",
   "execution_count": 5,
   "metadata": {},
   "outputs": [
    {
     "data": {
      "text/plain": [
       "165810"
      ]
     },
     "execution_count": 5,
     "metadata": {},
     "output_type": "execute_result"
    }
   ],
   "source": [
    "len(train)"
   ]
  },
  {
   "cell_type": "code",
   "execution_count": 6,
   "metadata": {},
   "outputs": [
    {
     "data": {
      "text/plain": [
       "(['졸업이란 대작 영화의 삽입곡인데 미쿡영웅들이랑 매치가 너무나 잘어울려요 많은 생각이 들었어요'], 0)"
      ]
     },
     "execution_count": 6,
     "metadata": {},
     "output_type": "execute_result"
    }
   ],
   "source": [
    "shuffle(train)\n",
    "train[0]"
   ]
  },
  {
   "cell_type": "code",
   "execution_count": 14,
   "metadata": {},
   "outputs": [
    {
     "name": "stdout",
     "output_type": "stream",
     "text": [
      "CPU times: user 2min 53s, sys: 514 ms, total: 2min 53s\n",
      "Wall time: 2min 51s\n"
     ]
    }
   ],
   "source": [
    "%%time\n",
    "train_docs = [(tokenize(row[0][0]), row[1]) for row in train]\n",
    "train_docs[0]"
   ]
  },
  {
   "cell_type": "code",
   "execution_count": 15,
   "metadata": {},
   "outputs": [
    {
     "data": {
      "text/plain": [
       "(['졸업/Noun',\n",
       "  '이란/Josa',\n",
       "  '대작/Noun',\n",
       "  '영화/Noun',\n",
       "  '의/Josa',\n",
       "  '삽입곡/Noun',\n",
       "  '인데/Josa',\n",
       "  '미국/Noun',\n",
       "  '영웅/Noun',\n",
       "  '들/Suffix',\n",
       "  '이랑/Josa',\n",
       "  '매치/Noun',\n",
       "  '가/Josa',\n",
       "  '너무나/Noun',\n",
       "  '잘/VerbPrefix',\n",
       "  '어울리다/Verb',\n",
       "  '많다/Adjective',\n",
       "  '생각/Noun',\n",
       "  '이/Josa',\n",
       "  '들다/Verb'],\n",
       " 0)"
      ]
     },
     "execution_count": 15,
     "metadata": {},
     "output_type": "execute_result"
    }
   ],
   "source": [
    "labels = [row[1] for row in train]\n",
    "docs = [row[0] for row in train_docs]\n",
    "docs[0], labels[0]"
   ]
  },
  {
   "cell_type": "code",
   "execution_count": 16,
   "metadata": {
    "collapsed": true
   },
   "outputs": [],
   "source": [
    "save_pickle('../docs.pickle', docs)\n",
    "save_pickle('../labels.pickle', labels)"
   ]
  },
  {
   "cell_type": "code",
   "execution_count": null,
   "metadata": {
    "collapsed": true
   },
   "outputs": [],
   "source": []
  }
 ],
 "metadata": {
  "kernelspec": {
   "display_name": "Python 3",
   "language": "python",
   "name": "python3"
  },
  "language_info": {
   "codemirror_mode": {
    "name": "ipython",
    "version": 3
   },
   "file_extension": ".py",
   "mimetype": "text/x-python",
   "name": "python",
   "nbconvert_exporter": "python",
   "pygments_lexer": "ipython3",
   "version": "3.6.3"
  }
 },
 "nbformat": 4,
 "nbformat_minor": 2
}
