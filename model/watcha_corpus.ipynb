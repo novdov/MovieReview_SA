{
 "cells": [
  {
   "cell_type": "code",
   "execution_count": 1,
   "metadata": {
    "collapsed": true
   },
   "outputs": [],
   "source": [
    "from utils import *"
   ]
  },
  {
   "cell_type": "code",
   "execution_count": 2,
   "metadata": {
    "collapsed": true
   },
   "outputs": [],
   "source": [
    "watcha_data = read_data('../reviews/watcha/contents_watcha.txt')"
   ]
  },
  {
   "cell_type": "code",
   "execution_count": 3,
   "metadata": {},
   "outputs": [
    {
     "data": {
      "text/plain": [
       "[['\"#1. &lt;블래어 윗치 프로젝트&gt; 이후 파운드 푸티지 형식의 공포물이 지닌 태생적인 한계를 감독의 기교 넘치는 연출을 바탕으로 과감하게 돌파해내다.'],\n",
       " ['#2. 오랜만에 극장에서 관람한 한국 공포영화이자, 정말 오랜만에 소름끼치면서 감상한 한국 공포영화.'],\n",
       " ['#3. 극중, 세월호 참사에 대한 감독의 메시지를 간간히 발견해낼 수 있음에 밀려오는 고마움.\"']]"
      ]
     },
     "execution_count": 3,
     "metadata": {},
     "output_type": "execute_result"
    }
   ],
   "source": [
    "watcha_data[:3]"
   ]
  },
  {
   "cell_type": "code",
   "execution_count": 5,
   "metadata": {},
   "outputs": [
    {
     "name": "stdout",
     "output_type": "stream",
     "text": [
      "CPU times: user 1min 22s, sys: 567 ms, total: 1min 23s\n",
      "Wall time: 1min 13s\n"
     ]
    }
   ],
   "source": [
    "%%time\n",
    "watcha_docs = [tokenize(row[0]) for row in watcha_data]"
   ]
  },
  {
   "cell_type": "code",
   "execution_count": 15,
   "metadata": {
    "collapsed": true
   },
   "outputs": [],
   "source": [
    "watcha_docs_no_pos = [remove_pos(docs) for docs in watcha_docs]"
   ]
  },
  {
   "cell_type": "code",
   "execution_count": 9,
   "metadata": {},
   "outputs": [
    {
     "name": "stdout",
     "output_type": "stream",
     "text": [
      "['\"#둘이/Hashtag',\n",
      " '제발/Noun',\n",
      " '마블/Noun',\n",
      " '시리즈/Noun',\n",
      " '에서/Josa',\n",
      " '만나다/Verb',\n",
      " '.../Punctuation']\n"
     ]
    }
   ],
   "source": [
    "from pprint import pprint\n",
    "\n",
    "pprint(watcha_docs[20])"
   ]
  },
  {
   "cell_type": "code",
   "execution_count": 11,
   "metadata": {},
   "outputs": [
    {
     "name": "stdout",
     "output_type": "stream",
     "text": [
      "<Text: WATCHA>\n"
     ]
    }
   ],
   "source": [
    "import nltk\n",
    "\n",
    "tokens = [t for d in watcha_docs for t in d]\n",
    "text = nltk.Text(tokens, name=\"WATCHA\")\n",
    "print(text)"
   ]
  },
  {
   "cell_type": "code",
   "execution_count": 12,
   "metadata": {},
   "outputs": [
    {
     "name": "stdout",
     "output_type": "stream",
     "text": [
      "1477509\n",
      "33881\n",
      "[('\"/Punctuation', 48977),\n",
      " ('./Punctuation', 47528),\n",
      " ('하다/Verb', 40284),\n",
      " ('의/Josa', 30133),\n",
      " ('이/Josa', 26967),\n",
      " ('을/Josa', 25689),\n",
      " (',/Punctuation', 19537),\n",
      " ('에/Josa', 19303),\n",
      " ('영화/Noun', 17209),\n",
      " ('가/Josa', 17080)]\n"
     ]
    }
   ],
   "source": [
    "print(len(text.tokens))\n",
    "print(len(set(text.tokens)))\n",
    "pprint(text.vocab().most_common(10))"
   ]
  },
  {
   "cell_type": "code",
   "execution_count": 14,
   "metadata": {},
   "outputs": [
    {
     "name": "stdout",
     "output_type": "stream",
     "text": [
      "CPU times: user 5min 44s, sys: 1.27 s, total: 5min 45s\n",
      "Wall time: 1min 37s\n"
     ]
    }
   ],
   "source": [
    "%%time\n",
    "from gensim.models import word2vec\n",
    "model = word2vec.Word2Vec(watcha_docs, size=300, workers=4, min_count=10, iter=100)"
   ]
  },
  {
   "cell_type": "code",
   "execution_count": 16,
   "metadata": {
    "collapsed": true
   },
   "outputs": [],
   "source": [
    "save_pickle('../watcha_docs_0427.pickle', watcha_docs)\n",
    "save_pickle('../watcha_docs_no_pos_0427.pickle', watcha_docs_no_pos)\n",
    "save_pickle('../nltk_text_watcha_0427.pickle', text)\n",
    "model.save('../model/review_word2vec_watcha_20180427')"
   ]
  },
  {
   "cell_type": "code",
   "execution_count": 19,
   "metadata": {},
   "outputs": [
    {
     "data": {
      "text/plain": [
       "['기쁘다/Adjective',\n",
       " '화나다/Verb',\n",
       " '역겹다/Adjective',\n",
       " '슬프다/Adjective',\n",
       " '무섭다/Adjective']"
      ]
     },
     "execution_count": 19,
     "metadata": {},
     "output_type": "execute_result"
    }
   ],
   "source": [
    "emotion_pair = {'joy': '기쁘다', 'anger': '화나다', \n",
    "                'disgust': '역겹다', 'sadness': '슬프다', 'fear': '무섭다'}\n",
    "emotion_ko_list = list(emotion_pair.values())\n",
    "emotion_ko_dic = {\n",
    "    '기쁘다': 0, \n",
    "    '화나다': 1, \n",
    "    '역겹다': 2,\n",
    "    '슬프다': 3,\n",
    "    '무섭다': 4,\n",
    "}\n",
    "emotion_ko_list = [tokenize(row) for row in emotion_ko_list]\n",
    "emotion_ko_list = [row[0] for row in emotion_ko_list]\n",
    "emotion_ko_list"
   ]
  },
  {
   "cell_type": "code",
   "execution_count": 36,
   "metadata": {},
   "outputs": [
    {
     "data": {
      "text/plain": [
       "[('튀어나오다/Verb', 0.2856808602809906),\n",
       " ('슬로우/Noun', 0.27998045086860657),\n",
       " ('레이싱/Noun', 0.2758506238460541),\n",
       " ('놀람/Noun', 0.2728798985481262),\n",
       " ('감점/Noun', 0.2705410420894623),\n",
       " ('샤이닝/Noun', 0.2618006765842438),\n",
       " ('웃음/Noun', 0.2568887770175934),\n",
       " ('패러디/Noun', 0.2551446259021759),\n",
       " ('흠칫/Noun', 0.25495243072509766),\n",
       " ('끄덕/Noun', 0.2512543201446533),\n",
       " ('울컥/Adverb', 0.24931840598583221),\n",
       " ('웃기다/Verb', 0.24477705359458923),\n",
       " ('몇몇/Noun', 0.2442483752965927),\n",
       " ('나오다/Verb', 0.23618923127651215),\n",
       " ('놀라다/Verb', 0.23454773426055908),\n",
       " ('전환/Noun', 0.23442840576171875),\n",
       " ('미스터/Noun', 0.23375797271728516),\n",
       " ('최면/Noun', 0.23367294669151306),\n",
       " ('귀신/Noun', 0.23339185118675232),\n",
       " ('졸다/Verb', 0.23035584390163422),\n",
       " ('통화/Noun', 0.23006175458431244),\n",
       " ('하품/Noun', 0.22480909526348114),\n",
       " ('은근/Noun', 0.22151751816272736),\n",
       " ('빵/Noun', 0.2211616188287735),\n",
       " ('꿀잼/Noun', 0.22100716829299927),\n",
       " ('압권/Noun', 0.2186449021100998),\n",
       " ('오케스트라/Noun', 0.21858230233192444),\n",
       " ('곳곳/Noun', 0.21708999574184418),\n",
       " ('놀/Noun', 0.21582022309303284),\n",
       " ('카체이싱/Noun', 0.21364618837833405),\n",
       " ('돋다/Adjective', 0.21224799752235413),\n",
       " ('쓸데없다/Adjective', 0.21140727400779724),\n",
       " ('재밌다/Adjective', 0.2109731286764145),\n",
       " ('언즈/Noun', 0.21073080599308014),\n",
       " ('해운대/Noun', 0.21061518788337708),\n",
       " ('배치/Noun', 0.20980049669742584),\n",
       " ('배경음악/Noun', 0.20897309482097626),\n",
       " ('래/Josa', 0.20706073939800262),\n",
       " ('사운드/Noun', 0.20614200830459595),\n",
       " ('복선/Noun', 0.20373818278312683),\n",
       " ('외적인/Noun', 0.20229855179786682),\n",
       " ('홍보/Noun', 0.201088085770607),\n",
       " ('불쾌/Noun', 0.20056597888469696),\n",
       " ('초반/Noun', 0.19972147047519684),\n",
       " ('감탄/Noun', 0.1976761817932129),\n",
       " ('어이/Noun', 0.19716818630695343),\n",
       " ('분쇄기/Noun', 0.19555628299713135),\n",
       " ('악수/Noun', 0.19498968124389648),\n",
       " ('남탕/Noun', 0.19310730695724487),\n",
       " ('화나다/Verb', 0.19310468435287476),\n",
       " ('시급/Noun', 0.19283415377140045),\n",
       " ('햄버거/Noun', 0.1905323565006256),\n",
       " ('팝콘/Noun', 0.1904447376728058),\n",
       " ('뇌리/Noun', 0.18901558220386505),\n",
       " ('농담/Noun', 0.188551664352417),\n",
       " ('song/Alpha', 0.18741221725940704),\n",
       " ('울음/Noun', 0.1874084174633026),\n",
       " ('청각/Noun', 0.18722836673259735),\n",
       " ('실소/Noun', 0.1871345341205597),\n",
       " ('코믹/Noun', 0.1869349628686905),\n",
       " ('폭행/Noun', 0.18590162694454193),\n",
       " ('효/Noun', 0.1849742829799652),\n",
       " ('고어/Noun', 0.18492592871189117),\n",
       " ('비행기/Noun', 0.1848442405462265),\n",
       " ('데모/Noun', 0.1848233938217163),\n",
       " ('드리프트/Noun', 0.18431639671325684),\n",
       " ('작성/Noun', 0.1842777580022812),\n",
       " ('특수/Noun', 0.1838105320930481),\n",
       " ('so/Alpha', 0.1833384782075882),\n",
       " ('센티미터/Noun', 0.1832151710987091),\n",
       " ('갑툭튀/Noun', 0.18308888375759125),\n",
       " ('그랬는데/Conjunction', 0.18237225711345673),\n",
       " ('다다/Noun', 0.1812485009431839),\n",
       " ('깜짝깜짝/Adverb', 0.18080152571201324),\n",
       " ('지진/Noun', 0.18060950934886932),\n",
       " ('회수/Noun', 0.18044041097164154),\n",
       " ('중간/Noun', 0.1791544407606125),\n",
       " ('유발/Noun', 0.17873065173625946),\n",
       " ('기대하다/Adjective', 0.1768924593925476),\n",
       " ('효도/Noun', 0.1765795648097992),\n",
       " ('역겹다/Adjective', 0.17565716803073883),\n",
       " ('몇개/Noun', 0.17515897750854492),\n",
       " ('블럭버스터/Noun', 0.17506060004234314),\n",
       " ('흥/Noun', 0.17454290390014648),\n",
       " ('정말/Exclamation', 0.17379163205623627),\n",
       " ('훌쩍/Noun', 0.17356178164482117),\n",
       " ('소름/Noun', 0.17329178750514984),\n",
       " ('허무맹랑/Noun', 0.17321434617042542),\n",
       " ('잔인/Noun', 0.17303889989852905),\n",
       " ('미개/Noun', 0.1729799211025238),\n",
       " ('시위/Noun', 0.17182384431362152),\n",
       " ('빡치다/Adjective', 0.17178480327129364),\n",
       " ('감금/Noun', 0.1711677610874176),\n",
       " ('재미있다/Adjective', 0.17106570303440094),\n",
       " ('비명/Noun', 0.1709577590227127),\n",
       " ('울다/Verb', 0.17067034542560577),\n",
       " ('\\u3000/Foreign', 0.1695708930492401),\n",
       " ('운동/Noun', 0.16847045719623566),\n",
       " ('우습다/Adjective', 0.16813139617443085),\n",
       " ('웃다/Verb', 0.16793863475322723)]"
      ]
     },
     "execution_count": 36,
     "metadata": {},
     "output_type": "execute_result"
    }
   ],
   "source": [
    "model.wv.most_similar('깜놀/Noun', topn=100)"
   ]
  },
  {
   "cell_type": "code",
   "execution_count": 37,
   "metadata": {
    "collapsed": true
   },
   "outputs": [],
   "source": [
    "file = read_data('../reviews/watcha/watcha_review_2018-04-26.csv')"
   ]
  },
  {
   "cell_type": "code",
   "execution_count": 38,
   "metadata": {},
   "outputs": [
    {
     "name": "stdout",
     "output_type": "stream",
     "text": [
      "CPU times: user 7min 41s, sys: 2.03 s, total: 7min 43s\n",
      "Wall time: 7min 36s\n"
     ]
    }
   ],
   "source": [
    "%%time\n",
    "docs_2 = [tokenize(row[0]) for row in file]"
   ]
  },
  {
   "cell_type": "code",
   "execution_count": 40,
   "metadata": {},
   "outputs": [
    {
     "name": "stdout",
     "output_type": "stream",
     "text": [
      "CPU times: user 42min 22s, sys: 9.03 s, total: 42min 31s\n",
      "Wall time: 11min 34s\n"
     ]
    }
   ],
   "source": [
    "%%time\n",
    "model_2 = word2vec.Word2Vec(docs_2, size=300, workers=4, min_count=10, iter=100)"
   ]
  },
  {
   "cell_type": "code",
   "execution_count": null,
   "metadata": {
    "collapsed": true
   },
   "outputs": [],
   "source": [
    "save_pickle('../watcha_docs_0427.pickle', watcha_docs)\n",
    "save_pickle('../watcha_docs_no_pos_0427.pickle', watcha_docs_no_pos)\n",
    "save_pickle('../nltk_text_watcha_0427.pickle', text)\n",
    "model.save('../model/review_word2vec_watcha_20180427')"
   ]
  },
  {
   "cell_type": "code",
   "execution_count": 42,
   "metadata": {},
   "outputs": [],
   "source": [
    "save_pickle('../watcha_docs_0427_02.pickle', docs_2)\n",
    "model_2.save('../model/review_word2vec_watcha_2_2018427')"
   ]
  },
  {
   "cell_type": "code",
   "execution_count": null,
   "metadata": {
    "collapsed": true
   },
   "outputs": [],
   "source": []
  },
  {
   "cell_type": "code",
   "execution_count": null,
   "metadata": {
    "collapsed": true
   },
   "outputs": [],
   "source": []
  }
 ],
 "metadata": {
  "kernelspec": {
   "display_name": "Python 3",
   "language": "python",
   "name": "python3"
  },
  "language_info": {
   "codemirror_mode": {
    "name": "ipython",
    "version": 3
   },
   "file_extension": ".py",
   "mimetype": "text/x-python",
   "name": "python",
   "nbconvert_exporter": "python",
   "pygments_lexer": "ipython3",
   "version": "3.6.3"
  }
 },
 "nbformat": 4,
 "nbformat_minor": 2
}
