{
 "cells": [
  {
   "cell_type": "markdown",
   "metadata": {},
   "source": [
    "## Follow-Up using `soynlp`\n",
    "\n",
    "- `soynlp`를 이용, 띄어쓰기 교정 한 후 동일한 모델에 학습시키기 위함\n",
    "- 띄어쓰기 학습 데이터로 4,030건의 뉴스 기사 22,039 문장을 사용했으나, 리뷰 교정엔 적용하기 어려웠음 (영화 리뷰에서 학습용 데이터 선정 요망)"
   ]
  },
  {
   "cell_type": "code",
   "execution_count": 1,
   "metadata": {
    "collapsed": true
   },
   "outputs": [],
   "source": [
    "from pprint import pprint\n",
    "from soyspacing.countbase import RuleDict, CountSpace\n",
    "import soyspacing\n",
    "\n",
    "from words_preprocessing import *\n",
    "from file_io import *"
   ]
  },
  {
   "cell_type": "code",
   "execution_count": 2,
   "metadata": {
    "collapsed": true
   },
   "outputs": [],
   "source": [
    "train = load_pickle('../train_data.pkl')\n",
    "test = load_pickle('../test_data.pkl')"
   ]
  },
  {
   "cell_type": "code",
   "execution_count": 3,
   "metadata": {},
   "outputs": [
    {
     "name": "stdout",
     "output_type": "stream",
     "text": [
      "all tags length = 654328 --> 53317, (num_doc = 15598)"
     ]
    }
   ],
   "source": [
    "corpus_fname = '../134963_norm.txt'\n",
    "model = CountSpace()\n",
    "model.train(corpus_fname)"
   ]
  },
  {
   "cell_type": "code",
   "execution_count": 4,
   "metadata": {
    "collapsed": true
   },
   "outputs": [],
   "source": [
    "model_fname = '../model/spacing.model'\n",
    "model.save_model(model_fname, json_format=False)\n",
    "\n",
    "model = CountSpace()\n",
    "model.load_model('../model/spacing.model', json_format=False)"
   ]
  },
  {
   "cell_type": "markdown",
   "metadata": {},
   "source": [
    "### 띄어쓰기 교정 함수 적용\n",
    "\n",
    "- arguments\n",
    "    - 4개의 parameter\n",
    "        - `force_abs_threshold` : 점수의 절대값이 이 수준 이상이면 최고점이 아니더라도 즉각 태깅\n",
    "        - `nonspace_threshold` : 이 점수 이하일 때만 0으로 태깅\n",
    "        - `space_threshold` : 이 점수 이상일 때만 1로 태깅\n",
    "        - `min_count` : L, C, R 각각의 feature 빈도수가 min_count 이하이면 불확실한 정보로 판단, 띄어쓰기 계산 시 무시\n",
    "        - `verbose`: iteration 마다 띄어쓰기가 어떻게 되고 있는지 확인\n",
    "\n",
    "rules : 점수와 관계없이 반드시 태깅을 먼저 할 (chars, tags)"
   ]
  },
  {
   "cell_type": "code",
   "execution_count": 5,
   "metadata": {
    "collapsed": true
   },
   "outputs": [],
   "source": [
    "verbose=False\n",
    "mc = 10  # min_count\n",
    "ft = 0.3 # force_abs_threshold\n",
    "nt =-0.3 # nonspace_threshold\n",
    "st = 0.3 # space_threshold"
   ]
  },
  {
   "cell_type": "code",
   "execution_count": 6,
   "metadata": {},
   "outputs": [
    {
     "name": "stdout",
     "output_type": "stream",
     "text": [
      "'고생하셨습니다. 감사합니다.'\n",
      "'고생하셨습니다. 감사합니다.'\n"
     ]
    }
   ],
   "source": [
    "N = 24\n",
    "\n",
    "pprint(train[N][0][0])\n",
    "sent_corrected, tags = model.correct(doc=train[N][0][0],\n",
    "                                     verbose=verbose,\n",
    "                                     force_abs_threshold=ft,\n",
    "                                     nonspace_threshold=nt,\n",
    "                                     space_threshold=st,\n",
    "                                     min_count=mc)\n",
    "\n",
    "pprint(sent_corrected)"
   ]
  },
  {
   "cell_type": "code",
   "execution_count": 7,
   "metadata": {},
   "outputs": [
    {
     "name": "stdout",
     "output_type": "stream",
     "text": [
      "CPU times: user 1min 43s, sys: 192 ms, total: 1min 43s\n",
      "Wall time: 1min 43s\n"
     ]
    }
   ],
   "source": [
    "%%time\n",
    "train_spaced = [(model.correct(row[0][0], \n",
    "                               verbose=verbose,\n",
    "                               force_abs_threshold=ft,\n",
    "                               nonspace_threshold=nt,\n",
    "                               space_threshold=st,\n",
    "                               min_count=mc)[0],\n",
    "                 row[1]) for row in train]"
   ]
  },
  {
   "cell_type": "code",
   "execution_count": 8,
   "metadata": {
    "collapsed": true
   },
   "outputs": [],
   "source": [
    "test_spaced = [(model.correct(row[0][0], \n",
    "                              verbose=verbose,\n",
    "                              force_abs_threshold=ft,\n",
    "                              nonspace_threshold=nt,\n",
    "                              space_threshold=st,\n",
    "                              min_count=mc)[0],\n",
    "                 row[1]) for row in test]"
   ]
  },
  {
   "cell_type": "code",
   "execution_count": 9,
   "metadata": {},
   "outputs": [
    {
     "name": "stdout",
     "output_type": "stream",
     "text": [
      "('재밌다! 에로영화가 나아가야 할 방향을 제시해주는 작품이랄까', 0)\n",
      "('나는 나에게 작은 손을 내밀어 눈물과 위안으로 잡는 최초의 악수. 자존. 이해. 화해. 성장담이 아름다운 이유.', 3)\n"
     ]
    }
   ],
   "source": [
    "pprint(train_spaced[20])\n",
    "pprint(test_spaced[20])"
   ]
  },
  {
   "cell_type": "code",
   "execution_count": 10,
   "metadata": {},
   "outputs": [
    {
     "name": "stdout",
     "output_type": "stream",
     "text": [
      "training was done. used memory 0.990 Gbse memory 0.903 Gb\n",
      "all cohesion probabilities was computed. # words = 49621\n",
      "all branching entropies was computed # words = 117573\n",
      "all accessor variety was computed # words = 117573\n"
     ]
    }
   ],
   "source": [
    "from soynlp.word import WordExtractor\n",
    "\n",
    "word_extractor = WordExtractor(min_count=10,\n",
    "                               min_cohesion_forward=0.05, \n",
    "                               min_right_branching_entropy=0.0)\n",
    "\n",
    "sentences_spaced = [row[0] for row in train_spaced]\n",
    "word_extractor.train(sentences_spaced) # list of str or like\n",
    "words = word_extractor.extract()"
   ]
  },
  {
   "cell_type": "code",
   "execution_count": 11,
   "metadata": {},
   "outputs": [
    {
     "data": {
      "text/plain": [
       "(['고생하셨습니다.', '감사', '합니다', '.'], 0)"
      ]
     },
     "execution_count": 11,
     "metadata": {},
     "output_type": "execute_result"
    }
   ],
   "source": [
    "from soynlp.tokenizer import MaxScoreTokenizer\n",
    "\n",
    "scores = {items[0]: items[1][0] for items in list(words.items())}\n",
    "tokenizer = MaxScoreTokenizer(scores=scores)\n",
    "\n",
    "train_tokenized = [(tokenizer.tokenize(row[0][0]), row[1]) for row in train]\n",
    "test_tokenized = [(tokenizer.tokenize(row[0][0]), row[1]) for row in test]\n",
    "train_tokenized[N]"
   ]
  },
  {
   "cell_type": "code",
   "execution_count": 13,
   "metadata": {
    "collapsed": true
   },
   "outputs": [],
   "source": [
    "save_pickle('../train_space_tokenized.pkl' , train_tokenized)\n",
    "save_pickle('../test_space_tokenized.pkl' , test_tokenized)\n",
    "save_pickle('../train_space_corrected.pkl', train_spaced)\n",
    "save_pickle('../test_space_corrected.pkl', test_spaced)"
   ]
  },
  {
   "cell_type": "code",
   "execution_count": null,
   "metadata": {
    "collapsed": true
   },
   "outputs": [],
   "source": []
  }
 ],
 "metadata": {
  "kernelspec": {
   "display_name": "Python 3",
   "language": "python",
   "name": "python3"
  },
  "language_info": {
   "codemirror_mode": {
    "name": "ipython",
    "version": 3
   },
   "file_extension": ".py",
   "mimetype": "text/x-python",
   "name": "python",
   "nbconvert_exporter": "python",
   "pygments_lexer": "ipython3",
   "version": "3.6.3"
  }
 },
 "nbformat": 4,
 "nbformat_minor": 2
}
