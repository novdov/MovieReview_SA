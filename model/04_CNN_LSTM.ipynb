{
 "cells": [
  {
   "cell_type": "code",
   "execution_count": 10,
   "metadata": {
    "collapsed": true
   },
   "outputs": [],
   "source": [
    "from keras.models import Sequential\n",
    "from keras.models import load_model\n",
    "from keras.layers import Dense, Embedding, LSTM\n",
    "from keras.layers import Flatten, Dropout\n",
    "from keras.layers import Conv1D, MaxPool1D\n",
    "from keras.utils import np_utils"
   ]
  },
  {
   "cell_type": "code",
   "execution_count": 11,
   "metadata": {
    "collapsed": true
   },
   "outputs": [],
   "source": [
    "import pickle\n",
    "def load_pickle(file_name):\n",
    "    with open(file_name, 'rb') as f:\n",
    "        obj = pickle.load(f)\n",
    "    return obj"
   ]
  },
  {
   "cell_type": "code",
   "execution_count": 12,
   "metadata": {
    "collapsed": true
   },
   "outputs": [],
   "source": [
    "import matplotlib.pyplot as plt\n",
    "\n",
    "def plot_loss(history):\n",
    "    plt.plot(history.history['loss'])\n",
    "    plt.plot(history.history['val_loss'])\n",
    "    plt.title(\"Model Loss\")\n",
    "    plt.ylabel(\"Loss\")\n",
    "    plt.xlabel(\"Epoch\")\n",
    "    plt.legend([\"Train\", \"Test\"], loc=0)\n",
    "\n",
    "def plot_acc(history):\n",
    "    plt.plot(history.history['acc'])\n",
    "    plt.plot(history.history['val_acc'])\n",
    "    plt.title(\"Model Accuracy\")\n",
    "    plt.ylabel(\"Accuracy\")\n",
    "    plt.xlabel(\"Epoch\")\n",
    "    plt.legend([\"Train\", \"Test\"], loc=0)"
   ]
  },
  {
   "cell_type": "code",
   "execution_count": 13,
   "metadata": {
    "collapsed": true
   },
   "outputs": [],
   "source": [
    "x_train = load_pickle('x_train_sequences.pickle')\n",
    "labels = load_pickle('y_train_sequences.pickle')\n",
    "y_train = np_utils.to_categorical(labels)"
   ]
  },
  {
   "cell_type": "code",
   "execution_count": 14,
   "metadata": {},
   "outputs": [
    {
     "data": {
      "text/plain": [
       "(140938, 24872, 140938, 24872)"
      ]
     },
     "execution_count": 14,
     "metadata": {},
     "output_type": "execute_result"
    }
   ],
   "source": [
    "from sklearn.model_selection import train_test_split\n",
    "\n",
    "X_trainval, X_test, y_trainval, y_test = train_test_split(x_train, y_train, test_size=0.15, random_state=1234)\n",
    "\n",
    "len(X_trainval), len(X_test), len(y_trainval), len(y_test)"
   ]
  },
  {
   "cell_type": "code",
   "execution_count": 15,
   "metadata": {},
   "outputs": [
    {
     "data": {
      "text/plain": [
       "(84562, 56376, 84562, 56376)"
      ]
     },
     "execution_count": 15,
     "metadata": {},
     "output_type": "execute_result"
    }
   ],
   "source": [
    "X_train, X_val, y_train, y_val = train_test_split(X_trainval, y_trainval, test_size=0.4, random_state=1234)\n",
    "\n",
    "len(X_train), len(X_val), len(y_train), len(y_val)"
   ]
  },
  {
   "cell_type": "code",
   "execution_count": 16,
   "metadata": {
    "collapsed": true
   },
   "outputs": [],
   "source": [
    "max_features = 50863\n",
    "MAX_SEQUENCES_LENGTH = 95"
   ]
  },
  {
   "cell_type": "code",
   "execution_count": 17,
   "metadata": {},
   "outputs": [
    {
     "name": "stderr",
     "output_type": "stream",
     "text": [
      "/home/ubuntu/anaconda3/envs/tensorflow_p36/lib/python3.6/site-packages/keras/models.py:282: UserWarning: No training configuration found in save file: the model was *not* compiled. Compile it manually.\n",
      "  warnings.warn('No training configuration found in save file: '\n"
     ]
    }
   ],
   "source": [
    "model1 = load_model('model1.hdf5')\n",
    "model2 = load_model('model2.hdf5')"
   ]
  },
  {
   "cell_type": "markdown",
   "metadata": {},
   "source": [
    "- model1: relu\n",
    "- model2: tanh"
   ]
  },
  {
   "cell_type": "code",
   "execution_count": 18,
   "metadata": {},
   "outputs": [
    {
     "name": "stdout",
     "output_type": "stream",
     "text": [
      "Train on 84562 samples, validate on 56376 samples\n",
      "Epoch 1/10\n",
      "84562/84562 [==============================] - 30s 359us/step - loss: 1.0744 - acc: 0.6575 - val_loss: 0.5979 - val_acc: 0.8261\n",
      "Epoch 2/10\n",
      "84562/84562 [==============================] - 29s 342us/step - loss: 0.4088 - acc: 0.8959 - val_loss: 0.3166 - val_acc: 0.9294\n",
      "Epoch 3/10\n",
      "84562/84562 [==============================] - 29s 342us/step - loss: 0.2613 - acc: 0.9455 - val_loss: 0.2770 - val_acc: 0.9349\n",
      "Epoch 4/10\n",
      "84562/84562 [==============================] - 29s 342us/step - loss: 0.2132 - acc: 0.9570 - val_loss: 0.2556 - val_acc: 0.9396\n",
      "Epoch 5/10\n",
      "84562/84562 [==============================] - 29s 342us/step - loss: 0.1914 - acc: 0.9631 - val_loss: 0.2523 - val_acc: 0.9388\n",
      "Epoch 6/10\n",
      "84562/84562 [==============================] - 29s 343us/step - loss: 0.1720 - acc: 0.9678 - val_loss: 0.2572 - val_acc: 0.9368\n",
      "Epoch 7/10\n",
      "84562/84562 [==============================] - 29s 342us/step - loss: 0.1625 - acc: 0.9704 - val_loss: 0.2481 - val_acc: 0.9366\n",
      "Epoch 8/10\n",
      "84562/84562 [==============================] - 29s 343us/step - loss: 0.1508 - acc: 0.9730 - val_loss: 0.2709 - val_acc: 0.9307\n",
      "Epoch 9/10\n",
      "84562/84562 [==============================] - 29s 345us/step - loss: 0.1468 - acc: 0.9746 - val_loss: 0.2565 - val_acc: 0.9375\n",
      "Epoch 10/10\n",
      "84562/84562 [==============================] - 29s 343us/step - loss: 0.1385 - acc: 0.9767 - val_loss: 0.2490 - val_acc: 0.9365\n"
     ]
    }
   ],
   "source": [
    "model1.compile(loss='categorical_crossentropy', optimizer='adam', metrics=['accuracy'])\n",
    "hist1 = model1.fit(X_train, y_train, epochs=10, batch_size=200, validation_data=(X_val, y_val))"
   ]
  },
  {
   "cell_type": "code",
   "execution_count": 19,
   "metadata": {},
   "outputs": [
    {
     "data": {
      "image/png": "[encoded data removed]",
      "text/plain": [
       "<Figure size 936x360 with 2 Axes>"
      ]
     },
     "metadata": {},
     "output_type": "display_data"
    }
   ],
   "source": [
    "plt.figure(figsize=(13,5))\n",
    "plt.subplot(121)\n",
    "plot_acc(hist1)\n",
    "plt.subplot(122)\n",
    "plot_loss(hist1)"
   ]
  },
  {
   "cell_type": "code",
   "execution_count": 20,
   "metadata": {
    "collapsed": true
   },
   "outputs": [],
   "source": [
    "model1.save('model1_relu_trained.hdf5')"
   ]
  },
  {
   "cell_type": "code",
   "execution_count": null,
   "metadata": {
    "collapsed": true
   },
   "outputs": [],
   "source": []
  }
 ],
 "metadata": {
  "kernelspec": {
   "display_name": "Python 3",
   "language": "python",
   "name": "python3"
  },
  "language_info": {
   "codemirror_mode": {
    "name": "ipython",
    "version": 3
   },
   "file_extension": ".py",
   "mimetype": "text/x-python",
   "name": "python",
   "nbconvert_exporter": "python",
   "pygments_lexer": "ipython3",
   "version": "3.6.3"
  }
 },
 "nbformat": 4,
 "nbformat_minor": 2
}
